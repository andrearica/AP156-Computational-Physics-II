{
 "cells": [
  {
   "cell_type": "code",
   "execution_count": 1,
   "metadata": {},
   "outputs": [
    {
     "name": "stdout",
     "output_type": "stream",
     "text": [
      "Using matplotlib backend: Qt5Agg\n"
     ]
    }
   ],
   "source": [
    "import numpy as np\n",
    "import random as rn\n",
    "import matplotlib.pyplot as plt\n",
    "import matplotlib.animation as animate\n",
    "%matplotlib auto"
   ]
  },
  {
   "cell_type": "code",
   "execution_count": 3,
   "metadata": {
    "collapsed": true
   },
   "outputs": [],
   "source": [
    "def setT(t):\n",
    "    bf = np.zeros(3)\n",
    "    bf[0] = 0.5*rn.uniform(0,1)\n",
    "    bf[1] = np.exp(-4/t)*rn.uniform(0,1)\n",
    "    bf[2] = np.exp(-8/t)*rn.uniform(0,1)\n",
    "    return bf"
   ]
  },
  {
   "cell_type": "code",
   "execution_count": 14,
   "metadata": {},
   "outputs": [
    {
     "data": {
      "text/plain": [
       "2"
      ]
     },
     "execution_count": 14,
     "metadata": {},
     "output_type": "execute_result"
    }
   ],
   "source": [
    "5//2"
   ]
  },
  {
   "cell_type": "code",
   "execution_count": 27,
   "metadata": {},
   "outputs": [
    {
     "data": {
      "text/plain": [
       "array([[-1., -1., -1., ..., -1.,  1., -1.],\n",
       "       [ 1., -1.,  1., ..., -1.,  1., -1.],\n",
       "       [-1.,  1., -1., ..., -1., -1.,  1.],\n",
       "       ..., \n",
       "       [-1.,  1., -1., ..., -1., -1.,  1.],\n",
       "       [ 1., -1., -1., ..., -1.,  1., -1.],\n",
       "       [-1., -1.,  1., ..., -1.,  1.,  1.]])"
      ]
     },
     "execution_count": 27,
     "metadata": {},
     "output_type": "execute_result"
    }
   ],
   "source": [
    "L = 100\n",
    "s = np.ones([L,L])\n",
    "bf = setT(100)\n",
    "\n",
    "for x in range(L-1):\n",
    "    for y in range(L-1):\n",
    "        e = s[x,y]*(s[x-1,y]+s[x+1,y]+s[x,y-1]+s[x,y+1])\n",
    "        #print(e)\n",
    "        index = int(e//2)\n",
    "        if e>0 or rn.uniform(0,1)<bf[index]:\n",
    "            s[x,y] = -s[x,y]\n",
    "            #v = 2*(x*80+2*(y-1)+2)\n",
    "            #ch = (s[x,y]+1*15)\n",
    "for x in range(L-1):\n",
    "    s[0,x] = s[L-2,x]\n",
    "    s[L-1,x] = s[1,x]\n",
    "    s[x,0] = s[x,L-2]\n",
    "    s[x,L-1] = s[x,1]\n",
    "\n",
    "plt.imshow(s,cmap='gray')\n",
    "s"
   ]
  }
 ],
 "metadata": {
  "kernelspec": {
   "display_name": "Python 3",
   "language": "python",
   "name": "python3"
  },
  "language_info": {
   "codemirror_mode": {
    "name": "ipython",
    "version": 3
   },
   "file_extension": ".py",
   "mimetype": "text/x-python",
   "name": "python",
   "nbconvert_exporter": "python",
   "pygments_lexer": "ipython3",
   "version": "3.6.1"
  }
 },
 "nbformat": 4,
 "nbformat_minor": 2
}
