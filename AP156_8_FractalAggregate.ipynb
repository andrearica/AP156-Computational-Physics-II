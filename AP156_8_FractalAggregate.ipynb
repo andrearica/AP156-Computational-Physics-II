{
 "cells": [
  {
   "cell_type": "code",
   "execution_count": 3,
   "metadata": {},
   "outputs": [
    {
     "name": "stdout",
     "output_type": "stream",
     "text": [
      "Using matplotlib backend: Qt5Agg\n"
     ]
    }
   ],
   "source": [
    "import numpy as np\n",
    "import random \n",
    "import matplotlib.pyplot as plt\n",
    "import matplotlib.animation as animation\n",
    "%matplotlib auto"
   ]
  },
  {
   "cell_type": "code",
   "execution_count": 4,
   "metadata": {
    "collapsed": true
   },
   "outputs": [],
   "source": [
    "def leng(r):\n",
    "    return np.sqrt(r[0]**2+r[1]**2)"
   ]
  },
  {
   "cell_type": "code",
   "execution_count": 5,
   "metadata": {
    "collapsed": true
   },
   "outputs": [],
   "source": [
    "def choose_step(p):\n",
    "    s = np.random.randint(0,4)\n",
    "    if s == 0: #up\n",
    "        p[1] += 1\n",
    "    elif s == 1: #down\n",
    "        p[1] -= 1\n",
    "    elif s == 2: #right\n",
    "        p[0] += 1\n",
    "    elif s == 3: #left\n",
    "        p[0] -= 1\n",
    "    return p"
   ]
  },
  {
   "cell_type": "code",
   "execution_count": 6,
   "metadata": {
    "collapsed": true
   },
   "outputs": [],
   "source": [
    "def aggregate(p):\n",
    "    if [p[0],p[1]+1] in x: #up\n",
    "        return True\n",
    "    elif [p[0],p[1]-1] in x: #down\n",
    "        return True\n",
    "    elif [p[0]+1,p[1]] in x: #right\n",
    "        return True\n",
    "    elif [p[0]-1,p[1]] in x: #left\n",
    "        return True\n",
    "    else:\n",
    "        return False\n"
   ]
  },
  {
   "cell_type": "code",
   "execution_count": 7,
   "metadata": {
    "collapsed": true
   },
   "outputs": [],
   "source": [
    "def edge(p,R):\n",
    "    if np.sqrt(p[0]**2+p[1]**2)>Rk:\n",
    "        return True\n",
    "    elif np.sqrt(p[0]**2+p[1]**2)>R:\n",
    "        return True\n",
    "    else:\n",
    "        return False"
   ]
  },
  {
   "cell_type": "markdown",
   "metadata": {},
   "source": [
    "### I. Diffusion"
   ]
  },
  {
   "cell_type": "code",
   "execution_count": 8,
   "metadata": {
    "collapsed": true
   },
   "outputs": [],
   "source": [
    "Rk = 50\n",
    "Rmax = 1"
   ]
  },
  {
   "cell_type": "code",
   "execution_count": 23,
   "metadata": {},
   "outputs": [
    {
     "name": "stdout",
     "output_type": "stream",
     "text": [
      "0\n",
      "10\n",
      "10\n",
      "10\n",
      "10\n",
      "10\n",
      "10\n",
      "10\n",
      "10\n",
      "10\n",
      "10\n",
      "10\n",
      "10\n",
      "10\n",
      "10\n",
      "10\n",
      "10\n",
      "10\n",
      "10\n",
      "10\n",
      "10\n",
      "10\n",
      "10\n",
      "10\n",
      "10\n",
      "10\n",
      "10\n",
      "20\n",
      "20\n",
      "20\n",
      "20\n",
      "20\n",
      "20\n",
      "20\n",
      "20\n",
      "20\n",
      "20\n",
      "20\n",
      "20\n",
      "20\n",
      "20\n",
      "30\n",
      "30\n",
      "30\n",
      "30\n",
      "30\n",
      "30\n",
      "30\n",
      "30\n",
      "30\n",
      "30\n",
      "30\n",
      "40\n",
      "40\n",
      "40\n",
      "40\n",
      "40\n",
      "40\n",
      "40\n",
      "40\n",
      "40\n",
      "40\n",
      "40\n",
      "40\n",
      "40\n",
      "40\n",
      "40\n",
      "40\n",
      "40\n",
      "50\n",
      "50\n",
      "50\n",
      "50\n",
      "50\n",
      "50\n",
      "50\n",
      "50\n",
      "50\n",
      "50\n",
      "60\n",
      "60\n",
      "60\n",
      "60\n",
      "60\n",
      "60\n",
      "60\n",
      "60\n",
      "60\n",
      "60\n",
      "60\n",
      "60\n",
      "60\n",
      "60\n",
      "60\n",
      "60\n",
      "60\n",
      "60\n",
      "60\n",
      "60\n",
      "60\n",
      "60\n",
      "60\n",
      "60\n",
      "70\n",
      "70\n",
      "70\n",
      "70\n",
      "70\n",
      "70\n",
      "70\n",
      "70\n",
      "70\n",
      "70\n",
      "70\n",
      "70\n",
      "70\n",
      "70\n",
      "70\n",
      "70\n",
      "70\n",
      "70\n",
      "70\n",
      "70\n",
      "70\n",
      "70\n",
      "70\n",
      "70\n",
      "70\n",
      "70\n",
      "70\n",
      "70\n",
      "70\n",
      "70\n",
      "70\n",
      "70\n",
      "80\n",
      "80\n",
      "80\n",
      "80\n",
      "80\n",
      "80\n",
      "80\n",
      "80\n",
      "80\n",
      "80\n",
      "80\n",
      "80\n",
      "80\n",
      "80\n",
      "80\n",
      "80\n",
      "80\n",
      "80\n",
      "80\n",
      "80\n",
      "80\n",
      "80\n",
      "80\n",
      "80\n",
      "90\n",
      "90\n",
      "90\n",
      "90\n",
      "90\n",
      "90\n",
      "90\n",
      "90\n",
      "90\n",
      "100\n",
      "100\n",
      "100\n",
      "100\n",
      "100\n",
      "100\n",
      "100\n",
      "100\n",
      "100\n",
      "100\n",
      "100\n",
      "100\n",
      "100\n",
      "100\n",
      "110\n",
      "110\n",
      "110\n",
      "110\n",
      "110\n",
      "110\n",
      "110\n",
      "110\n",
      "110\n",
      "110\n",
      "120\n",
      "120\n",
      "120\n",
      "120\n",
      "120\n",
      "120\n",
      "120\n",
      "120\n",
      "120\n",
      "120\n",
      "120\n",
      "120\n",
      "120\n",
      "120\n",
      "120\n",
      "120\n",
      "120\n",
      "120\n",
      "120\n",
      "120\n",
      "120\n",
      "120\n",
      "120\n",
      "120\n",
      "120\n",
      "120\n",
      "120\n",
      "120\n",
      "120\n",
      "130\n",
      "130\n",
      "130\n",
      "130\n",
      "140\n",
      "140\n",
      "140\n",
      "140\n",
      "140\n",
      "140\n",
      "140\n",
      "140\n",
      "140\n",
      "140\n",
      "140\n",
      "140\n",
      "140\n",
      "150\n",
      "160\n",
      "160\n",
      "170\n",
      "170\n",
      "170\n",
      "170\n",
      "170\n",
      "170\n",
      "170\n",
      "170\n",
      "170\n",
      "170\n",
      "170\n",
      "170\n",
      "170\n",
      "170\n",
      "170\n",
      "170\n",
      "170\n",
      "170\n",
      "170\n",
      "170\n",
      "170\n",
      "180\n",
      "180\n",
      "190\n",
      "190\n",
      "190\n",
      "190\n",
      "Duration: 0:01:29.880091\n"
     ]
    }
   ],
   "source": [
    "from datetime import datetime\n",
    "start_time = datetime.now()\n",
    "# do your work here\n",
    "\n",
    "#main\n",
    "x = [[0,0]]\n",
    "N=0\n",
    "while N!=200:\n",
    "    #if N%10==0:print(N)\n",
    "    ran = np.random.randint(0,2)\n",
    "    if ran == 0:\n",
    "        rand = np.random.randint(0,2)\n",
    "        if rand == 0:\n",
    "            Rs = [np.random.randint(-Rk,-Rmax),np.random.randint(-Rk,-Rmax)]\n",
    "        elif rand == 1:\n",
    "            Rs = [np.random.randint(-Rk,-Rmax),np.random.randint(Rmax,Rk)]\n",
    "    elif ran == 1:\n",
    "        rand = np.random.randint(0,2)\n",
    "        if rand == 0:\n",
    "            Rs = [np.random.randint(Rmax,Rk),np.random.randint(-Rk,-Rmax)]\n",
    "        elif rand == 1:\n",
    "            Rs = [np.random.randint(Rmax,Rk),np.random.randint(Rmax,Rk)]\n",
    "            \n",
    "            \n",
    "    while True:\n",
    "        Rs = choose_step(Rs)\n",
    "        if edge(Rs,Rk):\n",
    "            break\n",
    "        elif aggregate(Rs):\n",
    "            #print(Rs)\n",
    "            if Rs in x:break\n",
    "            x.append(Rs)\n",
    "            if leng(Rs)>=Rmax: Rmax+=1\n",
    "            N+=1\n",
    "            break\n",
    "            \n",
    "    #print(\"x\"+str(x))\n",
    "    \n",
    "\n",
    "end_time = datetime.now()\n",
    "print('Duration: {}'.format(end_time - start_time))"
   ]
  },
  {
   "cell_type": "code",
   "execution_count": 24,
   "metadata": {},
   "outputs": [],
   "source": [
    "x=np.array(x)\n",
    "plt.xlim(-Rk,Rk)\n",
    "plt.ylim(-Rk,Rk)\n",
    "#plt.plot(x1,y,'k')\n",
    "#plt.plot(x1,y1,'k')\n",
    "plt.scatter(x[:,0],x[:,1],s=0.5)\n",
    "plt.title(\"Diffusion\")\n",
    "plt.show()"
   ]
  },
  {
   "cell_type": "code",
   "execution_count": 11,
   "metadata": {},
   "outputs": [
    {
     "name": "stdout",
     "output_type": "stream",
     "text": [
      "1.60757876738\n"
     ]
    }
   ],
   "source": [
    "#N=200\n",
    "D = np.log(N)/np.log(Rmax)\n",
    "print(D)"
   ]
  },
  {
   "cell_type": "markdown",
   "metadata": {},
   "source": [
    "### II. Rd jump"
   ]
  },
  {
   "cell_type": "code",
   "execution_count": 26,
   "metadata": {
    "collapsed": true
   },
   "outputs": [],
   "source": [
    "Rk = 100\n",
    "Rmax = 1\n",
    "Rd = 90\n",
    "Rs = Rmax+3"
   ]
  },
  {
   "cell_type": "code",
   "execution_count": 30,
   "metadata": {},
   "outputs": [
    {
     "name": "stdout",
     "output_type": "stream",
     "text": [
      "Duration: 0:07:00.152902\n"
     ]
    }
   ],
   "source": [
    "from datetime import datetime\n",
    "start_time = datetime.now()\n",
    "# do your work here\n",
    "\n",
    "#main\n",
    "x = [[0,0]]\n",
    "N=1\n",
    "while N !=1000:\n",
    "    ran = np.random.randint(0,2)\n",
    "    \n",
    "    if ran == 0:\n",
    "        rand = np.random.randint(0,2)\n",
    "        if rand == 0:\n",
    "            Ro = [np.random.randint(-Rs,-Rmax),np.random.randint(-Rs,-Rmax)]\n",
    "        elif rand == 1:\n",
    "            Ro = [np.random.randint(-Rs,-Rmax),np.random.randint(Rmax,Rs)]\n",
    "    elif ran == 1:\n",
    "        rand = np.random.randint(0,2)\n",
    "        if rand == 0:\n",
    "            Ro = [np.random.randint(Rmax,Rs),np.random.randint(-Rs,-Rmax)]\n",
    "        elif rand == 1:\n",
    "            Ro = [np.random.randint(Rmax,Rs),np.random.randint(Rmax, Rs)]\n",
    "    \n",
    "    R01=Ro\n",
    "    while True:\n",
    "        Ro = choose_step(Ro)\n",
    "        #print(Rs)\n",
    "        if edge(Ro,Rk):\n",
    "            break\n",
    "        elif edge(Ro,Rd):\n",
    "            Ro = [Ro[0]-int(Rs*np.cos(random.uniform(0,1)*2*np.pi)),Ro[1]-int(Rs*np.sin(random.uniform(0,1)*2*np.pi))]\n",
    "        elif aggregate(Ro):\n",
    "            #print(Rs)\n",
    "            if Ro in x: break\n",
    "            x.append(Ro)\n",
    "            if leng(Ro)>=Rmax: \n",
    "                Rmax+=1\n",
    "                Rs +=1\n",
    "            N+=1\n",
    "            #print(N)\n",
    "            break\n",
    "            \n",
    "    #print(\"x\"+str(x))\n",
    "    \n",
    "end_time = datetime.now()\n",
    "print('Duration: {}'.format(end_time - start_time))"
   ]
  },
  {
   "cell_type": "code",
   "execution_count": 31,
   "metadata": {},
   "outputs": [
    {
     "data": {
      "text/plain": [
       "<matplotlib.text.Text at 0x28917a012b0>"
      ]
     },
     "execution_count": 31,
     "metadata": {},
     "output_type": "execute_result"
    }
   ],
   "source": [
    "plt.figure()\n",
    "x=np.array(x)\n",
    "plt.xlim(-Rk,Rk)\n",
    "plt.ylim(-Rk,Rk)\n",
    "#plt.plot(x2,y,'k', label = \"Rmax\")\n",
    "#plt.plot(x4,y2,'r', label = \"Rd\")\n",
    "#plt.plot(x1,y1,'k')\n",
    "plt.scatter(0,0,s=1)\n",
    "plt.scatter(x[:,0],x[:,1],s=0.5)\n",
    "plt.title(\"Jump\")\n",
    "#plt.legend()"
   ]
  },
  {
   "cell_type": "code",
   "execution_count": 44,
   "metadata": {},
   "outputs": [
    {
     "data": {
      "text/plain": [
       "1.4951251293970975"
      ]
     },
     "execution_count": 44,
     "metadata": {},
     "output_type": "execute_result"
    }
   ],
   "source": [
    "#N=200\n",
    "D = np.log(400)/np.log(Rmax)\n",
    "D"
   ]
  },
  {
   "cell_type": "markdown",
   "metadata": {},
   "source": [
    "### Animation"
   ]
  },
  {
   "cell_type": "code",
   "execution_count": 41,
   "metadata": {
    "collapsed": true
   },
   "outputs": [],
   "source": [
    "fig,ax = plt.subplots()  \n",
    "    \n",
    "yc = 0\n",
    "line, = ax.plot(x[:yc,0], x[:yc,1], '.', markersize=0.8)\n",
    "\n",
    "Writer = animation.writers['ffmpeg']\n",
    "writer = Writer(fps=15, metadata=dict(artist='Me'), bitrate=1800)\n",
    "\n",
    "def animate(i):\n",
    "    line.set_xdata(x[:yc+i,0])\n",
    "    line.set_ydata(x[:yc+i,1]) # update the data.\n",
    "    \n",
    "    return line,\n",
    "\n",
    "\n",
    "animm = animation.FuncAnimation(fig, animate, interval=30)\n",
    "\n",
    "plt.xlim(-Rk,Rk)\n",
    "plt.ylim(-Rk,Rk)\n",
    "#plt.plot(x2,y,'k', label = \"Rmax\")\n",
    "#plt.plot(x4,y2,'r', label = \"Rd\")\n",
    "#plt.legend()\n",
    "plt.title(\"Animation\")\n",
    "plt.show()\n",
    "\n",
    "animm.save('im3.mp4', writer=\"ffmpeg\")"
   ]
  }
 ],
 "metadata": {
  "kernelspec": {
   "display_name": "Python 3",
   "language": "python",
   "name": "python3"
  },
  "language_info": {
   "codemirror_mode": {
    "name": "ipython",
    "version": 3
   },
   "file_extension": ".py",
   "mimetype": "text/x-python",
   "name": "python",
   "nbconvert_exporter": "python",
   "pygments_lexer": "ipython3",
   "version": "3.6.1"
  }
 },
 "nbformat": 4,
 "nbformat_minor": 2
}
