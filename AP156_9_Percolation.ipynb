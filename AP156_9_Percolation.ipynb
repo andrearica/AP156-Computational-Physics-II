{
 "cells": [
  {
   "cell_type": "code",
   "execution_count": 1,
   "metadata": {
    "ExecuteTime": {
     "end_time": "2018-11-07T03:23:39.660902Z",
     "start_time": "2018-11-07T03:23:34.493531Z"
    }
   },
   "outputs": [
    {
     "name": "stdout",
     "output_type": "stream",
     "text": [
      "Using matplotlib backend: Qt5Agg\n"
     ]
    }
   ],
   "source": [
    "import numpy as np\n",
    "import random as rn\n",
    "import matplotlib.pyplot as plt\n",
    "import matplotlib.animation as animation\n",
    "%matplotlib auto"
   ]
  },
  {
   "cell_type": "code",
   "execution_count": 2,
   "metadata": {
    "ExecuteTime": {
     "end_time": "2018-11-07T03:23:39.664790Z",
     "start_time": "2018-11-07T03:23:39.660902Z"
    },
    "collapsed": true
   },
   "outputs": [],
   "source": [
    "def choose_step(p):\n",
    "    s = np.random.randint(0,4)\n",
    "    #print(s)\n",
    "    if s == 0: #up\n",
    "        p[1] += 1\n",
    "    elif s == 1: #down\n",
    "        p[1] -= 1\n",
    "    elif s == 2: #right\n",
    "        p[0] += 1\n",
    "    elif s == 3: #left\n",
    "        p[0] -= 1\n",
    "    return p"
   ]
  },
  {
   "cell_type": "code",
   "execution_count": 3,
   "metadata": {
    "ExecuteTime": {
     "end_time": "2018-11-07T03:23:39.763961Z",
     "start_time": "2018-11-07T03:23:39.666792Z"
    },
    "collapsed": true
   },
   "outputs": [],
   "source": [
    "def aggregate(L,i,j):\n",
    "    if L[i,j] == 1: #up\n",
    "        return 1\n",
    "    else:\n",
    "        return 0"
   ]
  },
  {
   "cell_type": "code",
   "execution_count": 4,
   "metadata": {
    "ExecuteTime": {
     "end_time": "2018-11-07T03:23:39.847338Z",
     "start_time": "2018-11-07T03:23:39.766934Z"
    },
    "collapsed": true
   },
   "outputs": [],
   "source": [
    "def edge(i,j):\n",
    "    if i<=0 or i>=(N-1):\n",
    "        return True\n",
    "    elif j<=0 or j>=(N-1):\n",
    "        return True\n",
    "    else:\n",
    "        return False"
   ]
  },
  {
   "cell_type": "code",
   "execution_count": 5,
   "metadata": {
    "ExecuteTime": {
     "end_time": "2018-11-07T03:23:39.932333Z",
     "start_time": "2018-11-07T03:23:39.853321Z"
    },
    "collapsed": true
   },
   "outputs": [],
   "source": [
    "def undefined(L,i,j):\n",
    "    if L[i,j] == 0:\n",
    "        if L[i,j+1] == 1: #up\n",
    "            return True\n",
    "        elif L[i,j-1] == 1 : #down\n",
    "            return True\n",
    "        elif L[i+1,j] == 1 : #right\n",
    "            return True\n",
    "        elif L[i-1,j] == 1 : #left\n",
    "            return True\n",
    "        else:\n",
    "            #print('no more undefined')\n",
    "            return False\n",
    "    else: return 0"
   ]
  },
  {
   "cell_type": "code",
   "execution_count": 6,
   "metadata": {
    "ExecuteTime": {
     "end_time": "2018-11-07T03:23:40.013008Z",
     "start_time": "2018-11-07T03:23:39.936179Z"
    },
    "collapsed": true
   },
   "outputs": [],
   "source": [
    "def check(L):\n",
    "    N = np.shape(L)[0]\n",
    "    c = 0\n",
    "    u = []\n",
    "    for i in range(N-1):\n",
    "        for j in range(N-1):\n",
    "            if undefined(L,i,j) == True: \n",
    "                #print(j)\n",
    "                u.append([i,j])\n",
    "                c+=1\n",
    "            #else: \n",
    "            #    continue\n",
    "            #if c > 0:\n",
    "            #    return True\n",
    "    if c == 0:\n",
    "        return 3\n",
    "    else:\n",
    "        #print(u)\n",
    "        return u"
   ]
  },
  {
   "cell_type": "code",
   "execution_count": 9,
   "metadata": {
    "ExecuteTime": {
     "end_time": "2018-11-07T03:28:06.151283Z",
     "start_time": "2018-11-07T03:28:06.148269Z"
    },
    "collapsed": true
   },
   "outputs": [],
   "source": [
    "def img(N):\n",
    "    L1 = np.zeros([N,N])\n",
    "    i,j = [int(N/2),int(N/2)]\n",
    "    L1[:,0] = -1\n",
    "    L1[:,N-1] = -1\n",
    "    L1[0,:]  = -1\n",
    "    L1[N-1,:] = -1\n",
    "    L1[i,j] = 1\n",
    "    return L1"
   ]
  },
  {
   "cell_type": "code",
   "execution_count": 71,
   "metadata": {
    "ExecuteTime": {
     "end_time": "2018-11-07T03:26:37.837961Z",
     "start_time": "2018-11-07T03:26:37.835959Z"
    },
    "collapsed": true
   },
   "outputs": [],
   "source": [
    "p = 0.6"
   ]
  },
  {
   "cell_type": "code",
   "execution_count": 8,
   "metadata": {
    "ExecuteTime": {
     "end_time": "2018-11-07T03:23:42.025259Z",
     "start_time": "2018-11-07T03:23:40.099001Z"
    }
   },
   "outputs": [
    {
     "data": {
      "text/plain": [
       "<matplotlib.image.AxesImage at 0x14c07051518>"
      ]
     },
     "execution_count": 8,
     "metadata": {},
     "output_type": "execute_result"
    }
   ],
   "source": [
    "N=1000\n",
    "L = np.zeros([N,N])\n",
    "for i in range(N-1):\n",
    "    for j in range(N-1):\n",
    "        r = rn.uniform(0,1)\n",
    "        if r < p:\n",
    "            L[i,j] = 1\n",
    "\n",
    "plt.imshow(L,cmap='gray')"
   ]
  },
  {
   "cell_type": "code",
   "execution_count": 72,
   "metadata": {
    "ExecuteTime": {
     "end_time": "2018-11-07T03:29:40.297055Z",
     "start_time": "2018-11-07T03:29:40.186936Z"
    }
   },
   "outputs": [
    {
     "data": {
      "text/plain": [
       "<matplotlib.image.AxesImage at 0x14c0af058d0>"
      ]
     },
     "execution_count": 72,
     "metadata": {},
     "output_type": "execute_result"
    }
   ],
   "source": [
    "Lfin = []\n",
    "\n",
    "L1 = img(50)\n",
    "Lfin.append(np.copy(L1))\n",
    "\n",
    "while check(L1) != 3:\n",
    "    u = check(L1)\n",
    "    \n",
    "    un = np.random.randint(0,len(u))\n",
    "    pn = u[un]\n",
    "    \n",
    "    if edge(pn[0],pn[1])==False: \n",
    "        i, j = pn[0], pn[1]\n",
    "        if L1[pn[0],pn[1]] == 0:\n",
    "            r = rn.uniform(0,1)\n",
    "            if r < p:\n",
    "                L1[i,j] = 1\n",
    "                Lfin.append(np.copy(L1))\n",
    "            else:\n",
    "                L1[i,j] = -1\n",
    "                Lfin.append(np.copy(L1))\n",
    "\n",
    "        else: continue\n",
    "    else:continue\n",
    "    #print(i,j)\n",
    "    \n",
    "plt.imshow(L1, cmap = 'gray')"
   ]
  },
  {
   "cell_type": "code",
   "execution_count": 73,
   "metadata": {
    "ExecuteTime": {
     "end_time": "2018-11-07T03:25:30.668661Z",
     "start_time": "2018-11-07T03:23:34.504Z"
    },
    "collapsed": true
   },
   "outputs": [],
   "source": [
    "fig=plt.figure()\n",
    "\n",
    "im = plt.imshow(Lfin[0], cmap='gray')\n",
    "\n",
    "def animate(i):\n",
    "    #print (i)\n",
    "    im.set_array(Lfin[i], label = temps)\n",
    "\n",
    "\n",
    "animm = animation.FuncAnimation(fig, func=animate, interval=30)\n",
    "\n",
    "plt.show()"
   ]
  }
 ],
 "metadata": {
  "kernelspec": {
   "display_name": "Python 3",
   "language": "python",
   "name": "python3"
  },
  "language_info": {
   "codemirror_mode": {
    "name": "ipython",
    "version": 3
   },
   "file_extension": ".py",
   "mimetype": "text/x-python",
   "name": "python",
   "nbconvert_exporter": "python",
   "pygments_lexer": "ipython3",
   "version": "3.6.1"
  },
  "latex_envs": {
   "LaTeX_envs_menu_present": true,
   "autoclose": true,
   "autocomplete": true,
   "bibliofile": "biblio.bib",
   "cite_by": "apalike",
   "current_citInitial": 1,
   "eqLabelWithNumbers": true,
   "eqNumInitial": 1,
   "hotkeys": {
    "equation": "Ctrl-E",
    "itemize": "Ctrl-I"
   },
   "labels_anchors": false,
   "latex_user_defs": false,
   "report_style_numbering": false,
   "user_envs_cfg": false
  },
  "varInspector": {
   "cols": {
    "lenName": 16,
    "lenType": 16,
    "lenVar": 40
   },
   "kernels_config": {
    "python": {
     "delete_cmd_postfix": "",
     "delete_cmd_prefix": "del ",
     "library": "var_list.py",
     "varRefreshCmd": "print(var_dic_list())"
    },
    "r": {
     "delete_cmd_postfix": ") ",
     "delete_cmd_prefix": "rm(",
     "library": "var_list.r",
     "varRefreshCmd": "cat(var_dic_list()) "
    }
   },
   "types_to_exclude": [
    "module",
    "function",
    "builtin_function_or_method",
    "instance",
    "_Feature"
   ],
   "window_display": false
  }
 },
 "nbformat": 4,
 "nbformat_minor": 2
}
