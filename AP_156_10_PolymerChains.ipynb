{
 "cells": [
  {
   "cell_type": "code",
   "execution_count": 1,
   "metadata": {
    "ExecuteTime": {
     "end_time": "2018-11-13T04:38:29.114941Z",
     "start_time": "2018-11-13T04:38:29.089823Z"
    }
   },
   "outputs": [
    {
     "name": "stdout",
     "output_type": "stream",
     "text": [
      "Using matplotlib backend: Qt5Agg\n"
     ]
    }
   ],
   "source": [
    "import numpy as np\n",
    "import random as rn\n",
    "import matplotlib.pyplot as plt\n",
    "import matplotlib.animation as ani\n",
    "%matplotlib auto"
   ]
  },
  {
   "cell_type": "code",
   "execution_count": 2,
   "metadata": {
    "ExecuteTime": {
     "end_time": "2018-11-13T04:38:07.228123Z",
     "start_time": "2018-11-13T04:38:07.217111Z"
    },
    "collapsed": true
   },
   "outputs": [],
   "source": [
    "def choose_step(poly,d):\n",
    "    p = np.copy(poly)\n",
    "    i = np.random.randint(0,3)\n",
    "    s = d[i]\n",
    "    #print(s)\n",
    "    if s == 0: #up\n",
    "        p[1] += 1\n",
    "    elif s == 1: #down\n",
    "        p[1] -= 1\n",
    "    elif s == 2: #right\n",
    "        p[0] += 1\n",
    "    elif s == 3: #left\n",
    "        p[0] -= 1\n",
    "        \n",
    "    return [p[0],p[1]]"
   ]
  },
  {
   "cell_type": "code",
   "execution_count": 5,
   "metadata": {
    "ExecuteTime": {
     "end_time": "2018-11-13T04:38:07.296833Z",
     "start_time": "2018-11-13T04:38:07.235098Z"
    },
    "collapsed": true
   },
   "outputs": [],
   "source": [
    "def direction():\n",
    "    x,y = polymer[0]-polymer[1]\n",
    "    if x == -1:\n",
    "        return [0,1,3]\n",
    "    elif x == 1:\n",
    "        return [0,1,2]\n",
    "    elif y == 1:\n",
    "        return [0,2,3]\n",
    "    elif y == -1:\n",
    "        return [1,2,3]"
   ]
  },
  {
   "cell_type": "code",
   "execution_count": 6,
   "metadata": {
    "ExecuteTime": {
     "end_time": "2018-11-13T04:38:07.361540Z",
     "start_time": "2018-11-13T04:38:07.301842Z"
    },
    "collapsed": true
   },
   "outputs": [],
   "source": [
    "def intersect(x):\n",
    "    if x in polymer: #up\n",
    "        #print(\"True\")\n",
    "        return True\n",
    "    else:\n",
    "        return False"
   ]
  },
  {
   "cell_type": "code",
   "execution_count": 37,
   "metadata": {
    "ExecuteTime": {
     "end_time": "2018-11-13T04:38:08.077242Z",
     "start_time": "2018-11-13T04:38:07.362541Z"
    }
   },
   "outputs": [
    {
     "data": {
      "text/plain": [
       "[<matplotlib.lines.Line2D at 0x1863a231f98>]"
      ]
     },
     "execution_count": 37,
     "metadata": {},
     "output_type": "execute_result"
    }
   ],
   "source": [
    "N = 50\n",
    "polymer = []\n",
    "for i in range(N):\n",
    "    points = [i-N/2,0]\n",
    "    polymer.append(np.copy(points))\n",
    "polymer = np.array(polymer)\n",
    "plt.scatter(polymer[0,0],polymer[0,1], marker = 's')\n",
    "plt.plot(polymer[0:,0],polymer[0:,1],marker='o')\n"
   ]
  },
  {
   "cell_type": "code",
   "execution_count": 42,
   "metadata": {
    "ExecuteTime": {
     "end_time": "2018-11-13T04:38:08.121274Z",
     "start_time": "2018-11-13T04:38:08.079232Z"
    },
    "scrolled": true
   },
   "outputs": [
    {
     "name": "stdout",
     "output_type": "stream",
     "text": [
      "Fractal Dimension ave: 1.4753343836\n"
     ]
    },
    {
     "data": {
      "text/plain": [
       "[<matplotlib.lines.Line2D at 0x186399d7b00>]"
      ]
     },
     "execution_count": 42,
     "metadata": {},
     "output_type": "execute_result"
    }
   ],
   "source": [
    "polychain = []\n",
    "L = []\n",
    "for k in range(1000):\n",
    "    \n",
    "    \n",
    "    d = direction()\n",
    "    point = choose_step(polymer[0],d)\n",
    "    polymer = polymer.tolist()\n",
    "    polychain.append(np.copy(polymer))\n",
    "    \n",
    "    if intersect(point):\n",
    "        polymer = polymer[::-1]\n",
    "        polymer = np.array(polymer)\n",
    "        polymer = np.array(polymer)\n",
    "        D = np.sqrt((polymer[0,0]-polymer[N-1,0])**2+(polymer[0,1]-polymer[N-1,1])**2)\n",
    "        L.append(np.copy(D))\n",
    "        continue\n",
    "    else:\n",
    "        polymer.pop(N-1)\n",
    "        polymer.insert(0,point)\n",
    "       \n",
    "        \n",
    "    polymer = np.array(polymer)\n",
    "    D = np.sqrt((polymer[0,0]-polymer[N-1,0])**2+(polymer[0,1]-polymer[N-1,1])**2)\n",
    "    L.append(np.copy(D))\n",
    "    #plt.figure()\n",
    "    #plt.scatter(polymer[0,0],polymer[0,1], marker = 's')\n",
    "    #plt.plot(polymer[0:,0],polymer[0:,1],marker='o')\n",
    "    #plt.show()\n",
    "ave = sum(L)/len(L)\n",
    "print(\"Fractal Dimension ave:\",np.log(N)/np.log(ave))\n",
    "\n",
    "\n",
    "plt.figure()\n",
    "y = np.linspace(0,1000,1000)\n",
    "F = np.log(N)/np.log(L)\n",
    "plt.plot(y,F)"
   ]
  },
  {
   "cell_type": "code",
   "execution_count": 8,
   "metadata": {
    "ExecuteTime": {
     "end_time": "2018-11-13T04:38:21.150703Z",
     "start_time": "2018-11-13T04:38:21.146687Z"
    },
    "collapsed": true
   },
   "outputs": [],
   "source": [
    "polychain=np.array(polychain)"
   ]
  },
  {
   "cell_type": "code",
   "execution_count": 41,
   "metadata": {
    "ExecuteTime": {
     "end_time": "2018-11-13T04:38:32.974495Z",
     "start_time": "2018-11-13T04:38:32.305864Z"
    },
    "collapsed": true
   },
   "outputs": [],
   "source": [
    "polychain=np.array(polychain)\n",
    "fig,ax = plt.subplots()  \n",
    "    \n",
    "y = 0\n",
    "line, = ax.plot(polychain[y,:,0],polychain[y,:,1],marker='s',markevery=[0])\n",
    "\n",
    "\n",
    "def animate(i):\n",
    "    line.set_xdata(polychain[i,:,0])\n",
    "    line.set_ydata(polychain[i,:,1]) # update the data.\n",
    "    #line1.set_xdata(polychain[i,0,0])\n",
    "    #line1.set_ydata(polychain[i,0,1])\n",
    "    #head.set_array(polychain[i,0,0],polychain[i,0,1])\n",
    "    #print(patches)\n",
    "    return line,\n",
    "\n",
    "\n",
    "animm = ani.FuncAnimation(fig, animate, interval=100)\n",
    "\n",
    "\n",
    "plt.xlim(np.amin(polychain[:,:,0]),np.amax(polychain[:,:,0]))\n",
    "plt.ylim(np.amin(polychain[:,:,1]),np.amax(polychain[:,:,1]))\n",
    "plt.show()\n"
   ]
  },
  {
   "cell_type": "code",
   "execution_count": 22,
   "metadata": {},
   "outputs": [
    {
     "data": {
      "text/plain": [
       "1.2927843249617534"
      ]
     },
     "execution_count": 22,
     "metadata": {},
     "output_type": "execute_result"
    }
   ],
   "source": [
    "D = np.sqrt((polymer[0,0]-polymer[N-1,0])**2+(polymer[0,1]-polymer[N-1,1])**2)\n",
    "np.log(N)/np.log(D)"
   ]
  },
  {
   "cell_type": "code",
   "execution_count": 23,
   "metadata": {},
   "outputs": [
    {
     "name": "stdout",
     "output_type": "stream",
     "text": [
      "17.0582057345\n"
     ]
    }
   ],
   "source": [
    "ave = sum(L)/len(L)\n",
    "print(ave)"
   ]
  },
  {
   "cell_type": "code",
   "execution_count": 36,
   "metadata": {},
   "outputs": [
    {
     "ename": "ValueError",
     "evalue": "0 is not in list",
     "output_type": "error",
     "traceback": [
      "\u001b[1;31m---------------------------------------------------------------------------\u001b[0m",
      "\u001b[1;31mValueError\u001b[0m                                Traceback (most recent call last)",
      "\u001b[1;32m<ipython-input-36-9b057620f525>\u001b[0m in \u001b[0;36m<module>\u001b[1;34m()\u001b[0m\n\u001b[1;32m----> 1\u001b[1;33m \u001b[0mL\u001b[0m\u001b[1;33m.\u001b[0m\u001b[0mindex\u001b[0m\u001b[1;33m(\u001b[0m\u001b[1;36m0\u001b[0m\u001b[1;33m)\u001b[0m\u001b[1;33m\u001b[0m\u001b[0m\n\u001b[0m",
      "\u001b[1;31mValueError\u001b[0m: 0 is not in list"
     ]
    }
   ],
   "source": [
    "L.index(0)"
   ]
  }
 ],
 "metadata": {
  "kernelspec": {
   "display_name": "Python 3",
   "language": "python",
   "name": "python3"
  },
  "language_info": {
   "codemirror_mode": {
    "name": "ipython",
    "version": 3
   },
   "file_extension": ".py",
   "mimetype": "text/x-python",
   "name": "python",
   "nbconvert_exporter": "python",
   "pygments_lexer": "ipython3",
   "version": "3.6.1"
  },
  "latex_envs": {
   "LaTeX_envs_menu_present": true,
   "autoclose": true,
   "autocomplete": true,
   "bibliofile": "biblio.bib",
   "cite_by": "apalike",
   "current_citInitial": 1,
   "eqLabelWithNumbers": true,
   "eqNumInitial": 1,
   "hotkeys": {
    "equation": "Ctrl-E",
    "itemize": "Ctrl-I"
   },
   "labels_anchors": false,
   "latex_user_defs": false,
   "report_style_numbering": false,
   "user_envs_cfg": false
  },
  "varInspector": {
   "cols": {
    "lenName": 16,
    "lenType": 16,
    "lenVar": 40
   },
   "kernels_config": {
    "python": {
     "delete_cmd_postfix": "",
     "delete_cmd_prefix": "del ",
     "library": "var_list.py",
     "varRefreshCmd": "print(var_dic_list())"
    },
    "r": {
     "delete_cmd_postfix": ") ",
     "delete_cmd_prefix": "rm(",
     "library": "var_list.r",
     "varRefreshCmd": "cat(var_dic_list()) "
    }
   },
   "types_to_exclude": [
    "module",
    "function",
    "builtin_function_or_method",
    "instance",
    "_Feature"
   ],
   "window_display": false
  }
 },
 "nbformat": 4,
 "nbformat_minor": 2
}
