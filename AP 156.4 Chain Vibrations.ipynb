{
 "cells": [
  {
   "cell_type": "markdown",
   "metadata": {},
   "source": [
    "express rn,sn,tn,un as a vector\n",
    "\n",
    "\\begin{equation}\n",
    "X_n(t) = (r_n s_n t_n u_n) = S(q)exp(iqan \\pm iwt)\\\\\n",
    "\\ddot{X_n} = -\\omega^2X_n\\\\\n",
    "\\begin{pmatrix}\n",
    "m_1 & 0 & 0 & 0 \\\\\n",
    "0 & m_2 & 0 & 0 \\\\\n",
    "0 & 0 & m_3 & 0 \\\\\n",
    "0 & 0 & 0 & m_4\n",
    "\\end{pmatrix}\n",
    "\\begin{pmatrix}\n",
    "\\ddot{r_n} \\\\\n",
    "\\ddot{s_n} \\\\\n",
    "\\ddot{t_n} \\\\\n",
    "\\ddot{u_n}\n",
    "\\end{pmatrix} = \\begin{pmatrix}\n",
    "-2f & f & 0 & fexp(-iqa) \\\\\n",
    "f & -2f & f & 0 \\\\\n",
    "0 & f & -2f & f \\\\\n",
    "0 & 0 & f & -2f\n",
    "\\end{pmatrix}\n",
    "\\begin{pmatrix}\n",
    "r_n \\\\\n",
    "s_n \\\\\n",
    "t_n \\\\\n",
    "u_n\n",
    "\\end{pmatrix} (1) \\\\\n",
    "\\mathbb{F}S = \\lambda\\mathbb{M}S (2) \\\\\n",
    "\\text{where}: \\lambda = \\omega^2 (3)\\\\\n",
    "\\mathbb{M}^{-1}\\mathbb{F}S = \\lambda S (4) \n",
    "\\end{equation}"
   ]
  },
  {
   "cell_type": "code",
   "execution_count": 2,
   "metadata": {
    "collapsed": true
   },
   "outputs": [],
   "source": [
    "import numpy as np\n",
    "import matplotlib.pyplot as plt\n",
    "%matplotlib inline"
   ]
  },
  {
   "cell_type": "code",
   "execution_count": 3,
   "metadata": {
    "collapsed": true
   },
   "outputs": [],
   "source": [
    "f = 1\n",
    "m1 = 0.4\n",
    "m2 = 1.0"
   ]
  },
  {
   "cell_type": "code",
   "execution_count": 4,
   "metadata": {
    "collapsed": true
   },
   "outputs": [],
   "source": [
    "def F(q):\n",
    "    return np.array([f, -f, 0, -f*np.exp(-1j*q)]])\n",
    "M = np.array(np.diag([m1, m1, m1, m2]))"
   ]
  },
  {
   "cell_type": "code",
   "execution_count": 5,
   "metadata": {
    "collapsed": true
   },
   "outputs": [],
   "source": [
    "def left_side (qin): #LHS of eq.4\n",
    "    return (np.dot(np.linalg.inv(M),F(qin)))"
   ]
  },
  {
   "cell_type": "code",
   "execution_count": 11,
   "metadata": {
    "collapsed": true
   },
   "outputs": [],
   "source": [
    "x = np.linspace(-np.pi,np.pi,75)\n",
    "lambd = np.array([(np.linalg.eigvals((left_side(i)))) for i in x]) #Solving for lambda"
   ]
  },
  {
   "cell_type": "code",
   "execution_count": 12,
   "metadata": {},
   "outputs": [
    {
     "data": {
      "text/plain": [
       "<matplotlib.lines.Line2D at 0x1ab11a43f60>"
      ]
     },
     "execution_count": 12,
     "metadata": {},
     "output_type": "execute_result"
    },
    {
     "data": {
      "image/png": "[encoded data removed]",
      "text/plain": [
       "<matplotlib.figure.Figure at 0x1ab11a43b00>"
      ]
     },
     "metadata": {},
     "output_type": "display_data"
    }
   ],
   "source": [
    "w = np.sqrt(2*f/m1*(2-np.cos(kx*a)-np.cos(ky*a))) #eq.3\n",
    "plt.plot(x,w, '.',color='k')\n",
    "plt.axvline(0)"
   ]
  },
  {
   "cell_type": "code",
   "execution_count": 16,
   "metadata": {},
   "outputs": [
    {
     "name": "stdout",
     "output_type": "stream",
     "text": [
      "Help on function eigvals in module numpy.linalg.linalg:\n",
      "\n",
      "eigvals(a)\n",
      "    Compute the eigenvalues of a general matrix.\n",
      "    \n",
      "    Main difference between `eigvals` and `eig`: the eigenvectors aren't\n",
      "    returned.\n",
      "    \n",
      "    Parameters\n",
      "    ----------\n",
      "    a : (..., M, M) array_like\n",
      "        A complex- or real-valued matrix whose eigenvalues will be computed.\n",
      "    \n",
      "    Returns\n",
      "    -------\n",
      "    w : (..., M,) ndarray\n",
      "        The eigenvalues, each repeated according to its multiplicity.\n",
      "        They are not necessarily ordered, nor are they necessarily\n",
      "        real for real matrices.\n",
      "    \n",
      "    Raises\n",
      "    ------\n",
      "    LinAlgError\n",
      "        If the eigenvalue computation does not converge.\n",
      "    \n",
      "    See Also\n",
      "    --------\n",
      "    eig : eigenvalues and right eigenvectors of general arrays\n",
      "    eigvalsh : eigenvalues of symmetric or Hermitian arrays.\n",
      "    eigh : eigenvalues and eigenvectors of symmetric/Hermitian arrays.\n",
      "    \n",
      "    Notes\n",
      "    -----\n",
      "    \n",
      "    .. versionadded:: 1.8.0\n",
      "    \n",
      "    Broadcasting rules apply, see the `numpy.linalg` documentation for\n",
      "    details.\n",
      "    \n",
      "    This is implemented using the _geev LAPACK routines which compute\n",
      "    the eigenvalues and eigenvectors of general square arrays.\n",
      "    \n",
      "    Examples\n",
      "    --------\n",
      "    Illustration, using the fact that the eigenvalues of a diagonal matrix\n",
      "    are its diagonal elements, that multiplying a matrix on the left\n",
      "    by an orthogonal matrix, `Q`, and on the right by `Q.T` (the transpose\n",
      "    of `Q`), preserves the eigenvalues of the \"middle\" matrix.  In other words,\n",
      "    if `Q` is orthogonal, then ``Q * A * Q.T`` has the same eigenvalues as\n",
      "    ``A``:\n",
      "    \n",
      "    >>> from numpy import linalg as LA\n",
      "    >>> x = np.random.random()\n",
      "    >>> Q = np.array([[np.cos(x), -np.sin(x)], [np.sin(x), np.cos(x)]])\n",
      "    >>> LA.norm(Q[0, :]), LA.norm(Q[1, :]), np.dot(Q[0, :],Q[1, :])\n",
      "    (1.0, 1.0, 0.0)\n",
      "    \n",
      "    Now multiply a diagonal matrix by Q on one side and by Q.T on the other:\n",
      "    \n",
      "    >>> D = np.diag((-1,1))\n",
      "    >>> LA.eigvals(D)\n",
      "    array([-1.,  1.])\n",
      "    >>> A = np.dot(Q, D)\n",
      "    >>> A = np.dot(A, Q.T)\n",
      "    >>> LA.eigvals(A)\n",
      "    array([ 1., -1.])\n",
      "\n"
     ]
    }
   ],
   "source": []
  }
 ],
 "metadata": {
  "kernelspec": {
   "display_name": "Python 3",
   "language": "python",
   "name": "python3"
  },
  "language_info": {
   "codemirror_mode": {
    "name": "ipython",
    "version": 3
   },
   "file_extension": ".py",
   "mimetype": "text/x-python",
   "name": "python",
   "nbconvert_exporter": "python",
   "pygments_lexer": "ipython3",
   "version": "3.6.1"
  }
 },
 "nbformat": 4,
 "nbformat_minor": 2
}
